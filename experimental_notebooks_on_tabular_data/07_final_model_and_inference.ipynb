{
 "cells": [
  {
   "cell_type": "code",
   "execution_count": 6,
   "id": "6e521693-83c5-4ff1-bc33-ac69f9ad53cc",
   "metadata": {},
   "outputs": [
    {
     "name": "stdout",
     "output_type": "stream",
     "text": [
      "🏆 Loading best model: ../models\\01_RandomForest.pkl\n"
     ]
    }
   ],
   "source": [
    "import os, glob, joblib\n",
    "import pandas as pd\n",
    "import numpy as np\n",
    "\n",
    "# --- Directories ---\n",
    "MODEL_DIR = \"../models\"\n",
    "PRED_DIR = \"../predictions\"\n",
    "DATA_DIR = \"../preprocessed_tabular_data\"\n",
    "\n",
    "os.makedirs(PRED_DIR, exist_ok=True)\n",
    "\n",
    "# --- Load the best model (assume first in ranking) ---\n",
    "model_files = sorted(glob.glob(os.path.join(MODEL_DIR, \"*.pkl\")))\n",
    "best_model_file = model_files[0]   # top-ranked model saved as 01_ModelName.pkl\n",
    "print(f\"🏆 Loading best model: {best_model_file}\")\n",
    "best_model = joblib.load(best_model_file)\n"
   ]
  },
  {
   "cell_type": "code",
   "execution_count": 7,
   "id": "ac89c433-4edc-4236-8f02-87a09087949f",
   "metadata": {},
   "outputs": [
    {
     "name": "stdout",
     "output_type": "stream",
     "text": [
      "Test data shape: (3112, 6)\n",
      "✅ Predictions saved: ../predictions\\final_predictions.csv\n"
     ]
    }
   ],
   "source": [
    "# --- Load test/unseen data ---\n",
    "test = pd.read_csv(os.path.join(DATA_DIR, \"test_prepared.csv\"))\n",
    "\n",
    "X_test = test.drop(columns=[\"label\", \"tic_id\", \"obj_id\", \"object_name\", \"star_name\"], errors=\"ignore\")\n",
    "X_test = X_test.select_dtypes(include=[np.number])\n",
    "\n",
    "print(\"Test data shape:\", X_test.shape)\n",
    "\n",
    "# --- Run inference ---\n",
    "y_pred = best_model.predict(X_test)\n",
    "y_prob = best_model.predict_proba(X_test)[:,1]\n",
    "\n",
    "# Attach predictions to test set\n",
    "results = test.copy()\n",
    "results[\"prediction\"] = y_pred\n",
    "results[\"probability\"] = y_prob\n",
    "\n",
    "# Save predictions\n",
    "pred_path = os.path.join(PRED_DIR, \"final_predictions.csv\")\n",
    "results.to_csv(pred_path, index=False)\n",
    "print(f\"✅ Predictions saved: {pred_path}\")\n"
   ]
  },
  {
   "cell_type": "code",
   "execution_count": 8,
   "id": "12989e5f-ca6b-4a2a-88db-4d4714c7f5b3",
   "metadata": {},
   "outputs": [
    {
     "name": "stdout",
     "output_type": "stream",
     "text": [
      "🔮 Sample prediction: {'prediction': 1, 'probability': 0.5263058825579292}\n"
     ]
    }
   ],
   "source": [
    "# --- Inference Helper Function ---\n",
    "def predict_single(sample_dict):\n",
    "    \"\"\"\n",
    "    Run inference on a single sample passed as dict of feature: value.\n",
    "    Example:\n",
    "        sample = {\"feature1\": 0.5, \"feature2\": 1.2, \"feature3\": 3}\n",
    "        predict_single(sample)\n",
    "    \"\"\"\n",
    "    sample_df = pd.DataFrame([sample])\n",
    "    sample_df = sample_df.reindex(columns=X_test.columns, fill_value=0)\n",
    "    \n",
    "    pred = best_model.predict(sample_df)[0]\n",
    "    prob = best_model.predict_proba(sample_df)[0,1]\n",
    "    return {\"prediction\": int(pred), \"probability\": float(prob)}\n",
    "\n",
    "# --- Example single prediction ---\n",
    "sample = X_test.iloc[0].to_dict()\n",
    "print(\"🔮 Sample prediction:\", predict_single(sample))"
   ]
  },
  {
   "cell_type": "code",
   "execution_count": 9,
   "id": "a090f898-5f16-4e36-99a0-506f025acb49",
   "metadata": {},
   "outputs": [
    {
     "name": "stdout",
     "output_type": "stream",
     "text": [
      "\n",
      "💾 Model saved successfully to: ../models\\best_final_model.pkl\n"
     ]
    }
   ],
   "source": [
    "import joblib\n",
    "import os\n",
    "\n",
    "# Assuming 'best_model' is your loaded and trained model object\n",
    "# and 'MODEL_DIR' is defined as \"../models\"\n",
    "\n",
    "# Define the full path for the new model file\n",
    "output_model_path = os.path.join(MODEL_DIR, \"best_final_model.pkl\")\n",
    "\n",
    "# Save the model to the file\n",
    "joblib.dump(best_model, output_model_path)\n",
    "\n",
    "print(f\"\\n💾 Model saved successfully to: {output_model_path}\")"
   ]
  },
  {
   "cell_type": "code",
   "execution_count": null,
   "id": "36c4ddb9-bc16-4b9a-8f69-e66199e282fa",
   "metadata": {},
   "outputs": [],
   "source": []
  },
  {
   "cell_type": "code",
   "execution_count": null,
   "id": "0c2e6170-4cf1-4490-b078-2492dcfea066",
   "metadata": {},
   "outputs": [],
   "source": []
  }
 ],
 "metadata": {
  "kernelspec": {
   "display_name": "Python 3 (ipykernel)",
   "language": "python",
   "name": "python3"
  },
  "language_info": {
   "codemirror_mode": {
    "name": "ipython",
    "version": 3
   },
   "file_extension": ".py",
   "mimetype": "text/x-python",
   "name": "python",
   "nbconvert_exporter": "python",
   "pygments_lexer": "ipython3",
   "version": "3.12.5"
  }
 },
 "nbformat": 4,
 "nbformat_minor": 5
}

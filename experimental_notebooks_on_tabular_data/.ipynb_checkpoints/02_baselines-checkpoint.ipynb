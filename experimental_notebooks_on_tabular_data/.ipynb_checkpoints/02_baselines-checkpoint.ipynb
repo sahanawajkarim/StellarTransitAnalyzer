{
 "cells": [
  {
   "cell_type": "code",
   "execution_count": 6,
   "id": "9d080ed9-c7eb-4ca8-8acc-134a8411435e",
   "metadata": {},
   "outputs": [],
   "source": [
    "# This notebook sets up Logistic Regression, Decision Tree, KNN, and Naive Bayes classifiers\n",
    "# with stratified k-fold cross-validation.\n",
    "\n",
    "\n",
    "import pandas as pd\n",
    "import numpy as np\n",
    "from sklearn.model_selection import StratifiedKFold, cross_validate\n",
    "from sklearn.linear_model import LogisticRegression\n",
    "from sklearn.tree import DecisionTreeClassifier\n",
    "from sklearn.neighbors import KNeighborsClassifier\n",
    "from sklearn.naive_bayes import GaussianNB"
   ]
  },
  {
   "cell_type": "code",
   "execution_count": 7,
   "id": "fe59539d-f086-4447-98d5-c6559b0ec501",
   "metadata": {},
   "outputs": [],
   "source": [
    "train = pd.read_csv(\"../prepared_data/train_prepared.csv\")\n",
    "test = pd.read_csv(\"../prepared_data/test_prepared.csv\")\n"
   ]
  },
  {
   "cell_type": "code",
   "execution_count": 12,
   "id": "424730f5-c5db-4a39-90bd-e9866699869a",
   "metadata": {},
   "outputs": [
    {
     "name": "stdout",
     "output_type": "stream",
     "text": [
      "Features being used: ['period', 'log_period', 'duration', 'depth', 'planet_radius', 'planet_radius_est', 'stellar_radius', 'stellar_mass', 'stellar_mag', 'ra', 'dec']\n",
      "Shape: (13222, 11)\n"
     ]
    }
   ],
   "source": [
    "# Identify label column\n",
    "label_col = 'label' if 'label' in train.columns else 'operation_kind_id'\n",
    "\n",
    "\n",
    "# Map labels to binary (planet candidate = 1, false positive = 0)\n",
    "label_mapping = {\n",
    "'planet candidate': 1,\n",
    "'false positive': 0,\n",
    "1: 1,\n",
    "0: 0\n",
    "}\n",
    "train[label_col] = train[label_col].map(label_mapping)\n",
    "test[label_col] = test[label_col].map(label_mapping)\n",
    "\n",
    "\n",
    "\n",
    "\n",
    "\n",
    "# Drop obvious non-numeric identifiers\n",
    "X = train.drop(columns=[\"label\", \"tic_id\", \"star_name\"], errors=\"ignore\")\n",
    "y = train[\"label\"]\n",
    "\n",
    "# Keep only numeric columns\n",
    "X = X.select_dtypes(include=[np.number])\n",
    "\n",
    "# Check\n",
    "print(\"Features being used:\", X.columns.tolist())\n",
    "print(\"Shape:\", X.shape)\n",
    "\n",
    "\n"
   ]
  },
  {
   "cell_type": "code",
   "execution_count": 13,
   "id": "20fd6b76-b718-4390-8191-8fba079c2d56",
   "metadata": {},
   "outputs": [],
   "source": [
    "# Define baseline models\n",
    "models = {\n",
    "\"Logistic Regression\": LogisticRegression(max_iter=500, class_weight=\"balanced\"),\n",
    "\"Decision Tree\": DecisionTreeClassifier(random_state=42, class_weight=\"balanced\"),\n",
    "\"KNN\": KNeighborsClassifier(n_neighbors=5),\n",
    "\"Naive Bayes\": GaussianNB()\n",
    "}"
   ]
  },
  {
   "cell_type": "code",
   "execution_count": 14,
   "id": "71123784-cf06-4457-a6b4-b2484d2df5a6",
   "metadata": {},
   "outputs": [
    {
     "name": "stdout",
     "output_type": "stream",
     "text": [
      "   accuracy  precision    recall        f1   roc_auc                model\n",
      "0  0.713054   0.799870  0.728870  0.762671  0.768192  Logistic Regression\n",
      "1  0.770609   0.820609  0.815780  0.818165  0.754299        Decision Tree\n",
      "2  0.790804   0.808837  0.876509  0.841309  0.831393                  KNN\n",
      "3  0.715777   0.704777  0.947878  0.808435  0.756498          Naive Bayes\n"
     ]
    }
   ],
   "source": [
    "\n",
    "# Cross-validation setup\n",
    "cv = StratifiedKFold(n_splits=5, shuffle=True, random_state=42)\n",
    "\n",
    "# Metrics to collect\n",
    "scoring = ['accuracy', 'precision', 'recall', 'f1', 'roc_auc']\n",
    "\n",
    "results = []\n",
    "\n",
    "for name, model in models.items():\n",
    "    cv_results = cross_validate(model, X, y, cv=cv, scoring=scoring, return_train_score=False)\n",
    "    result_summary = {metric: np.mean(cv_results[f'test_{metric}']) for metric in scoring}\n",
    "    result_summary['model'] = name\n",
    "    results.append(result_summary)\n",
    "\n",
    "\n",
    "# Convert to DataFrame\n",
    "results_df = pd.DataFrame(results)\n",
    "print(results_df)\n"
   ]
  },
  {
   "cell_type": "code",
   "execution_count": 16,
   "id": "f7d44d56-121d-4dbb-88ad-9b9da13bdfdc",
   "metadata": {},
   "outputs": [
    {
     "name": "stdout",
     "output_type": "stream",
     "text": [
      "   accuracy  precision    recall        f1   roc_auc                model\n",
      "0  0.713054   0.799870  0.728870  0.762671  0.768192  Logistic Regression\n",
      "1  0.770609   0.820609  0.815780  0.818165  0.754299        Decision Tree\n",
      "2  0.790804   0.808837  0.876509  0.841309  0.831393                  KNN\n",
      "3  0.715777   0.704777  0.947878  0.808435  0.756498          Naive Bayes\n",
      "../Baseline results saved to metrics/baseline_results.csv\n"
     ]
    }
   ],
   "source": [
    "results_df = pd.DataFrame(results)\n",
    "print(results_df)\n",
    "\n",
    "\n",
    "# Save baseline results\n",
    "results_df.to_csv(\"../metrics/baseline_results.csv\", index=False)\n",
    "print(\"../Baseline results saved to metrics/baseline_results.csv\")"
   ]
  },
  {
   "cell_type": "code",
   "execution_count": null,
   "id": "b83959cc-3063-489c-a919-7c763352bc8a",
   "metadata": {},
   "outputs": [],
   "source": []
  }
 ],
 "metadata": {
  "kernelspec": {
   "display_name": "Python 3 (ipykernel)",
   "language": "python",
   "name": "python3"
  },
  "language_info": {
   "codemirror_mode": {
    "name": "ipython",
    "version": 3
   },
   "file_extension": ".py",
   "mimetype": "text/x-python",
   "name": "python",
   "nbconvert_exporter": "python",
   "pygments_lexer": "ipython3",
   "version": "3.12.5"
  }
 },
 "nbformat": 4,
 "nbformat_minor": 5
}
